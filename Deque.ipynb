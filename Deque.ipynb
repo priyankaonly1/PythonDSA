{
 "cells": [
  {
   "cell_type": "markdown",
   "metadata": {},
   "source": [
    "### Deque in python"
   ]
  },
  {
   "cell_type": "code",
   "execution_count": 10,
   "metadata": {},
   "outputs": [
    {
     "name": "stdout",
     "output_type": "stream",
     "text": [
      "deque([40, 10, 20, 30])\n",
      "30\n",
      "deque([40, 10, 20])\n",
      "40\n",
      "deque([10, 20])\n"
     ]
    }
   ],
   "source": [
    "from collections import deque\n",
    "\n",
    "d = deque()\n",
    "d.append(10)\n",
    "d.append(20)\n",
    "d.append(30)\n",
    "\n",
    "d.appendleft(40)\n",
    "print(d)\n",
    "\n",
    "print(d.pop())\n",
    "print(d)\n",
    "\n",
    "print(d.popleft())\n",
    "print(d)\n"
   ]
  },
  {
   "cell_type": "code",
   "execution_count": 17,
   "metadata": {},
   "outputs": [
    {
     "name": "stdout",
     "output_type": "stream",
     "text": [
      "deque([10, 20, 10, 30, 40])\n",
      "2\n",
      "deque([20, 10, 30, 40])\n",
      "deque([20, 10, 30, 40, 50, 60])\n",
      "deque([6, 5, 20, 10, 30, 40, 50, 60])\n"
     ]
    }
   ],
   "source": [
    "from collections import deque\n",
    "\n",
    "d = deque([10,20,30,40])\n",
    "d.insert(2,10)\n",
    "print(d)\n",
    "print(d.count(10))\n",
    "\n",
    "d.remove(10)\n",
    "print(d)\n",
    "\n",
    "d.extend([50,60])\n",
    "print(d)\n",
    "\n",
    "d.extendleft([5,6])\n",
    "print(d)"
   ]
  },
  {
   "cell_type": "code",
   "execution_count": 23,
   "metadata": {},
   "outputs": [
    {
     "name": "stdout",
     "output_type": "stream",
     "text": [
      "deque([40, 50, 10, 20, 30])\n",
      "deque([10, 20, 30, 40, 50])\n",
      "deque([50, 40, 30, 20, 10])\n"
     ]
    }
   ],
   "source": [
    "from collections import deque\n",
    "\n",
    "d= deque([10,20,30,40,50])\n",
    "\n",
    "d.rotate(2)\n",
    "print(d)\n",
    "\n",
    "d.rotate(-2)\n",
    "print(d)\n",
    "\n",
    "d.reverse()\n",
    "print(d)\n"
   ]
  },
  {
   "cell_type": "code",
   "execution_count": 26,
   "metadata": {},
   "outputs": [
    {
     "name": "stdout",
     "output_type": "stream",
     "text": [
      "30\n",
      "deque([10, 20, 100, 40, 50])\n",
      "10\n",
      "50\n"
     ]
    }
   ],
   "source": [
    "from collections import deque\n",
    "\n",
    "d = deque([10,20,30,40,50])\n",
    "print(d[2])\n",
    "\n",
    "d[2] = 100\n",
    "print(d)\n",
    "\n",
    "print(d[0])\n",
    "print(d[-1])"
   ]
  },
  {
   "cell_type": "markdown",
   "metadata": {},
   "source": [
    "### Design a data structure with min / max operations"
   ]
  },
  {
   "cell_type": "code",
   "execution_count": 14,
   "metadata": {},
   "outputs": [
    {
     "name": "stdout",
     "output_type": "stream",
     "text": [
      "3\n",
      "20\n",
      "10\n",
      "5\n"
     ]
    }
   ],
   "source": [
    "from collections import deque\n",
    "\n",
    "class MyDS:\n",
    "    def __init__(self):\n",
    "        self.dq = deque()\n",
    "        \n",
    "    def insertMin(self,x):\n",
    "        self.dq.appendleft(x)\n",
    "        \n",
    "    def insertMax(self,x):\n",
    "        self.dq.append(x)\n",
    "        \n",
    "    def extractMin(self):\n",
    "        return self.dq.popleft()\n",
    "    \n",
    "    def extractMax(self):\n",
    "        return self.dq.pop()\n",
    "    \n",
    "    def getMin(self):\n",
    "        return self.dq[0]\n",
    "    \n",
    "    def getMax(self):\n",
    "        return self.dq[-1]\n",
    "    \n",
    "    \n",
    "    \n",
    "    \n",
    "d = MyDS()\n",
    "\n",
    "d.insertMin(10)\n",
    "d.insertMin(5)\n",
    "d.insertMax(20)\n",
    "d.insertMin(3)\n",
    "\n",
    "print(d.extractMin())\n",
    "print(d.extractMax())\n",
    "print(d.getMax())\n",
    "print(d.getMin())\n",
    "\n",
    "\n",
    "\n",
    "        \n",
    "        \n",
    "        \n",
    "        \n",
    "        \n",
    "        \n",
    "        "
   ]
  },
  {
   "cell_type": "markdown",
   "metadata": {},
   "source": [
    "### Linked list implementation"
   ]
  },
  {
   "cell_type": "code",
   "execution_count": 14,
   "metadata": {},
   "outputs": [
    {
     "name": "stdout",
     "output_type": "stream",
     "text": [
      "10\n",
      "10 33\n",
      "False\n",
      "20\n",
      "20\n",
      "5\n",
      "4\n"
     ]
    }
   ],
   "source": [
    "class Node:\n",
    "    def __init__(self,x):\n",
    "        self.key = x\n",
    "        self.next = None\n",
    "        self.prev = None\n",
    "        \n",
    "class MyDeque:\n",
    "    def __init__(self):\n",
    "        self.front = None\n",
    "        self.rear = None\n",
    "        self.sz = 0\n",
    "        \n",
    "    def size(self):\n",
    "        return self.sz\n",
    "    \n",
    "    def isEmpty(self):\n",
    "        return self.sz == 0\n",
    "    \n",
    "    def insertRear(self,x):\n",
    "        temp = Node(x)\n",
    "        \n",
    "        if self.rear == None:\n",
    "            self.front = temp\n",
    "            \n",
    "        else:\n",
    "            self.rear.next = temp\n",
    "            temp.prev = self.rear\n",
    "            \n",
    "        self.rear = temp\n",
    "        self.sz = self.sz + 1\n",
    "        \n",
    "        \n",
    "    def insertFront(self,x):\n",
    "        temp = Node(x)\n",
    "        \n",
    "        if self.front == None:\n",
    "            self.front = temp\n",
    "        else:\n",
    "            self.front.prev = temp\n",
    "            temp.next = self.front\n",
    "            \n",
    "        self.front = temp\n",
    "        self.sz = self.sz + 1\n",
    "            \n",
    "        \n",
    "        \n",
    "    def deleteFront(self):             #self made\n",
    "        if self.front == None:\n",
    "            return None\n",
    "        \n",
    "        res = self.front.key\n",
    "        self.front = self.front.next\n",
    "        \n",
    "        if self.front == None:\n",
    "            self.rear == None\n",
    "            \n",
    "        else:\n",
    "            self.front.prev = None\n",
    "            \n",
    "        self.sz = self.sz - 1\n",
    "        return res\n",
    "    \n",
    "    def deleteRear(self):           #self H.W.\n",
    "        if self.rear == None:\n",
    "            return None\n",
    "        \n",
    "        res = self.rear.key\n",
    "        self.rear = self.rear.prev\n",
    "        \n",
    "        if self.rear == None:\n",
    "            self.front == None\n",
    "            \n",
    "        else:\n",
    "            self.rear.next == None\n",
    "            \n",
    "        self.sz = self.sz + 1\n",
    "        return res\n",
    "    \n",
    "    def getFront(self):\n",
    "        return self.front.key\n",
    "    \n",
    "    def getRear(self):\n",
    "        return self.rear.key\n",
    "    \n",
    "    \n",
    "    \n",
    "dq = MyDeque()\n",
    "dq.insertRear(10)\n",
    "print(dq.getFront())\n",
    "dq.insertRear(20)\n",
    "dq.insertRear(33)\n",
    "print(dq.getFront(),dq.getRear())\n",
    "print(dq.isEmpty())\n",
    "dq.deleteFront()\n",
    "print(dq.getFront())\n",
    "dq.deleteRear()                   #self H.W.\n",
    "print(dq.getRear())\n",
    "dq.insertFront(5)                #self H.W.\n",
    "print(dq.getFront())\n",
    "print(dq.size())\n"
   ]
  },
  {
   "cell_type": "code",
   "execution_count": null,
   "metadata": {},
   "outputs": [],
   "source": []
  },
  {
   "cell_type": "code",
   "execution_count": null,
   "metadata": {},
   "outputs": [],
   "source": []
  }
 ],
 "metadata": {
  "kernelspec": {
   "display_name": "Python 3",
   "language": "python",
   "name": "python3"
  },
  "language_info": {
   "codemirror_mode": {
    "name": "ipython",
    "version": 3
   },
   "file_extension": ".py",
   "mimetype": "text/x-python",
   "name": "python",
   "nbconvert_exporter": "python",
   "pygments_lexer": "ipython3",
   "version": "3.8.5"
  }
 },
 "nbformat": 4,
 "nbformat_minor": 4
}
