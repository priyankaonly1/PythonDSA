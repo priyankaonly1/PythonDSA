{
 "cells": [
  {
   "cell_type": "markdown",
   "metadata": {},
   "source": [
    "### simple traversing"
   ]
  },
  {
   "cell_type": "code",
   "execution_count": 1,
   "metadata": {},
   "outputs": [
    {
     "name": "stdout",
     "output_type": "stream",
     "text": [
      "10 20 30 "
     ]
    }
   ],
   "source": [
    "class Node:\n",
    "    def __init__(self,key):\n",
    "        self.key = key\n",
    "        self.prev = None\n",
    "        self.next = None\n",
    "        \n",
    "def printDll(head):\n",
    "    curr = head\n",
    "    while curr != None:\n",
    "        print(curr.key,end=\" \")\n",
    "        curr = curr.next\n",
    "        \n",
    "head = Node(10)\n",
    "temp1 = Node(20)\n",
    "temp2 = Node(30)\n",
    "\n",
    "head.next = temp1\n",
    "temp1.prev = head\n",
    "\n",
    "temp1.next = temp2\n",
    "temp2.prev = temp1\n",
    "\n",
    "printDll(head)"
   ]
  },
  {
   "cell_type": "markdown",
   "metadata": {},
   "source": [
    "### Insert at beginning"
   ]
  },
  {
   "cell_type": "code",
   "execution_count": 5,
   "metadata": {},
   "outputs": [
    {
     "name": "stdout",
     "output_type": "stream",
     "text": [
      "30 20 10 "
     ]
    }
   ],
   "source": [
    "class Node:\n",
    "    def __init__(self,key):\n",
    "        self.key = key\n",
    "        self.prev = None\n",
    "        self.next = None\n",
    "        \n",
    "def printDll(head):\n",
    "    curr = head\n",
    "    while curr != None:\n",
    "        print(curr.key,end=\" \")\n",
    "        curr = curr.next\n",
    "        \n",
    "def insertBeg(head,key):\n",
    "    temp = Node(key)\n",
    "    \n",
    "    if head != None:\n",
    "        head.prev = temp\n",
    "        \n",
    "    temp.next = head\n",
    "    return temp\n",
    "\n",
    "\n",
    "    \n",
    "head = None\n",
    "head = insertBeg(head,10)\n",
    "head = insertBeg(head,20)\n",
    "head = insertBeg(head,30)\n",
    "printDll(head)"
   ]
  },
  {
   "cell_type": "markdown",
   "metadata": {},
   "source": [
    "### Insert at end"
   ]
  },
  {
   "cell_type": "code",
   "execution_count": 6,
   "metadata": {},
   "outputs": [
    {
     "name": "stdout",
     "output_type": "stream",
     "text": [
      "10 20 30 40 "
     ]
    }
   ],
   "source": [
    "class Node:\n",
    "    def __init__(self,key):\n",
    "        self.key = key\n",
    "        self.prev = None\n",
    "        self.next = None\n",
    "        \n",
    "def printDll(head):\n",
    "    curr = head\n",
    "    while curr != None:\n",
    "        print(curr.key,end=\" \")\n",
    "        curr = curr.next\n",
    "        \n",
    "def insertEnd(head,x):\n",
    "    temp = Node(x)\n",
    "    \n",
    "    if head == None:\n",
    "        return temp\n",
    "    \n",
    "    curr = head\n",
    "    while curr.next != None:\n",
    "        curr = curr.next\n",
    "        \n",
    "    curr.next = temp\n",
    "    temp.prev = curr\n",
    "    return head\n",
    "\n",
    "head = None\n",
    "head = insertEnd(head,10)\n",
    "head = insertEnd(head,20)\n",
    "head = insertEnd(head,30)\n",
    "head = insertEnd(head,40)\n",
    "printDll(head)\n"
   ]
  },
  {
   "cell_type": "markdown",
   "metadata": {},
   "source": [
    "### Delete head"
   ]
  },
  {
   "cell_type": "code",
   "execution_count": 11,
   "metadata": {},
   "outputs": [
    {
     "name": "stdout",
     "output_type": "stream",
     "text": [
      "10 20 30 \n",
      "20 30 \n"
     ]
    }
   ],
   "source": [
    "class Node:\n",
    "    def __init__(self,key):\n",
    "        self.key = key\n",
    "        self.prev = None\n",
    "        self.next = None\n",
    "        \n",
    "def printDll(head):\n",
    "    curr = head\n",
    "    while curr != None:\n",
    "        print(curr.key,end=\" \")\n",
    "        curr = curr.next\n",
    "    print()\n",
    "        \n",
    "def delHead(head):\n",
    "    \n",
    "    if head == None:\n",
    "        return None\n",
    "    \n",
    "    elif head.next == None:\n",
    "        return None\n",
    "    \n",
    "    else:\n",
    "        head = head.next\n",
    "        head.prev = None\n",
    "        return head\n",
    "    \n",
    "    \n",
    "head = Node(10)\n",
    "temp1 = Node(20)\n",
    "temp2 = Node(30)\n",
    "\n",
    "head.next = temp1\n",
    "temp1.prev = head\n",
    "\n",
    "temp1.next = temp2\n",
    "temp2.prev = temp1\n",
    "\n",
    "printDll(head)\n",
    "head = delHead(head)\n",
    "printDll(head)"
   ]
  },
  {
   "cell_type": "markdown",
   "metadata": {},
   "source": [
    "### Delete Last"
   ]
  },
  {
   "cell_type": "code",
   "execution_count": 15,
   "metadata": {},
   "outputs": [
    {
     "name": "stdout",
     "output_type": "stream",
     "text": [
      "10 20 30 \n",
      "10 20 \n"
     ]
    }
   ],
   "source": [
    "class Node:\n",
    "    def __init__(self,key):\n",
    "        self.key = key\n",
    "        self.prev = None\n",
    "        self.next = None\n",
    "        \n",
    "def printDll(head):\n",
    "    curr = head\n",
    "    while curr != None:\n",
    "        print(curr.key,end=\" \")\n",
    "        curr = curr.next\n",
    "    print()\n",
    "    \n",
    "def delLast(head):\n",
    "    if head == None:\n",
    "        return None\n",
    "    \n",
    "    if head.next == None:\n",
    "        return None\n",
    "    \n",
    "    \n",
    "    else:\n",
    "        curr = head\n",
    "        while curr.next.next != None:\n",
    "            curr = curr.next\n",
    "            \n",
    "        curr.next = None\n",
    "        return head\n",
    "    \n",
    "    \n",
    "head = Node(10)\n",
    "temp1 = Node(20)\n",
    "temp2 = Node(30)\n",
    "\n",
    "head.next = temp1\n",
    "temp1.prev = head\n",
    "\n",
    "temp1.next = temp2\n",
    "temp2.prev = temp1\n",
    "\n",
    "\n",
    "printDll(head)\n",
    "head = delLast(head)\n",
    "printDll(head)"
   ]
  },
  {
   "cell_type": "markdown",
   "metadata": {},
   "source": [
    "### Reverse"
   ]
  },
  {
   "cell_type": "code",
   "execution_count": 2,
   "metadata": {},
   "outputs": [
    {
     "name": "stdout",
     "output_type": "stream",
     "text": [
      "10 20 30 40 \n"
     ]
    }
   ],
   "source": [
    "class Node:\n",
    "    def __init__(self,key):\n",
    "        self.key = key\n",
    "        self.prev = None\n",
    "        self.next = None\n",
    "        \n",
    "def printDll(head):\n",
    "    curr = head\n",
    "    while curr != None:\n",
    "        print(curr.key,end=\" \")\n",
    "        curr = curr.next\n",
    "    print()\n",
    "    \n",
    "def reverse(head):\n",
    "    if head == None:\n",
    "        return None\n",
    "    \n",
    "    elif head.next == None:\n",
    "        return head\n",
    "    \n",
    "    else:\n",
    "        curr = head\n",
    "        prev = None\n",
    "        \n",
    "        while curr != None:\n",
    "            \n",
    "    \n",
    "head = Node(10)\n",
    "temp1 = Node(20)\n",
    "temp2 = Node(30)\n",
    "temp3 = Node(40)\n",
    "\n",
    "head.next = temp1\n",
    "temp1.prev = head\n",
    "\n",
    "temp1.next = temp2\n",
    "temp2.prev = temp1\n",
    "\n",
    "temp2.next = temp3\n",
    "temp3.prev = temp2\n",
    "\n",
    "printDll(head)"
   ]
  },
  {
   "cell_type": "code",
   "execution_count": null,
   "metadata": {},
   "outputs": [],
   "source": []
  }
 ],
 "metadata": {
  "kernelspec": {
   "display_name": "Python 3",
   "language": "python",
   "name": "python3"
  },
  "language_info": {
   "codemirror_mode": {
    "name": "ipython",
    "version": 3
   },
   "file_extension": ".py",
   "mimetype": "text/x-python",
   "name": "python",
   "nbconvert_exporter": "python",
   "pygments_lexer": "ipython3",
   "version": "3.8.5"
  }
 },
 "nbformat": 4,
 "nbformat_minor": 4
}
